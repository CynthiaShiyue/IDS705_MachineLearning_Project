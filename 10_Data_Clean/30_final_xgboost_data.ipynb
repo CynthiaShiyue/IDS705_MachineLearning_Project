{
 "cells": [
  {
   "cell_type": "code",
   "execution_count": 9,
   "metadata": {},
   "outputs": [],
   "source": [
    "import pandas as pd"
   ]
  },
  {
   "cell_type": "code",
   "execution_count": 10,
   "metadata": {},
   "outputs": [],
   "source": [
    "# Load the saved datasets\n",
    "final_fire_data = pd.read_csv(\"final_fire_data.csv\")\n",
    "final_home_price = pd.read_csv(\"final_home_price.csv\")\n"
   ]
  },
  {
   "cell_type": "code",
   "execution_count": 11,
   "metadata": {},
   "outputs": [],
   "source": [
    "# Convert ZIP code to string and pad if needed\n",
    "final_fire_data[\"ZIP_CODE\"] = final_fire_data[\"ZIP_CODE\"].astype(str).str.zfill(5)\n",
    "final_home_price[\"ZipCode\"] = final_home_price[\"ZipCode\"].astype(str).str.zfill(5)\n",
    "\n",
    "# Convert year to int (if needed)\n",
    "final_fire_data[\"YEAR_\"] = final_fire_data[\"YEAR_\"].astype(int)\n",
    "final_home_price[\"YEAR\"] = final_home_price[\"YEAR\"].astype(int)\n"
   ]
  },
  {
   "cell_type": "code",
   "execution_count": 12,
   "metadata": {},
   "outputs": [
    {
     "data": {
      "text/plain": [
       "(1917, 7)"
      ]
     },
     "execution_count": 12,
     "metadata": {},
     "output_type": "execute_result"
    }
   ],
   "source": [
    "final_fire_data.shape"
   ]
  },
  {
   "cell_type": "code",
   "execution_count": 13,
   "metadata": {},
   "outputs": [
    {
     "data": {
      "text/plain": [
       "_merge\n",
       "left_only     8750\n",
       "both          1380\n",
       "right_only       0\n",
       "Name: count, dtype: int64"
      ]
     },
     "execution_count": 13,
     "metadata": {},
     "output_type": "execute_result"
    }
   ],
   "source": [
    "merged_data = pd.merge(\n",
    "    final_home_price,\n",
    "    final_fire_data,\n",
    "    left_on=[\"ZipCode\", \"YEAR\"],\n",
    "    right_on=[\"ZIP_CODE\", \"YEAR_\"],\n",
    "    how=\"left\",\n",
    "    indicator=True\n",
    ")\n",
    "\n",
    "merged_data[\"_merge\"].value_counts()"
   ]
  },
  {
   "cell_type": "code",
   "execution_count": 14,
   "metadata": {},
   "outputs": [
    {
     "data": {
      "text/plain": [
       "<bound method NDFrame.head of ZIP_CODE\n",
       "95568    8\n",
       "95043    7\n",
       "96108    7\n",
       "93633    7\n",
       "93563    7\n",
       "        ..\n",
       "95372    1\n",
       "95317    1\n",
       "93628    1\n",
       "96033    1\n",
       "95552    1\n",
       "Name: count, Length: 100, dtype: int64>"
      ]
     },
     "execution_count": 14,
     "metadata": {},
     "output_type": "execute_result"
    }
   ],
   "source": [
    "# Those are the ZIPs that aren’t included in Zillow’s home price data.\n",
    "\n",
    "unmatched_zips = final_fire_data.loc[\n",
    "    ~final_fire_data[\"ZIP_CODE\"].isin(final_home_price[\"ZipCode\"].unique()),\n",
    "    \"ZIP_CODE\"\n",
    "].value_counts()\n",
    "\n",
    "unmatched_zips.head # 77 zips aren't included in zillow dataset\n",
    "\n",
    "# there's 196 (1917 - 1721) fire that did not match because zillow does not include 77 zip codes\n",
    "# those 77 ZIPs’ rows in the fire data are dropped in the final merge result, because we're joining from Zillow’s ZIPs only (left join), and those 77 ZIPs don’t exist there."
   ]
  },
  {
   "cell_type": "code",
   "execution_count": 15,
   "metadata": {},
   "outputs": [
    {
     "data": {
      "text/html": [
       "<div>\n",
       "<style scoped>\n",
       "    .dataframe tbody tr th:only-of-type {\n",
       "        vertical-align: middle;\n",
       "    }\n",
       "\n",
       "    .dataframe tbody tr th {\n",
       "        vertical-align: top;\n",
       "    }\n",
       "\n",
       "    .dataframe thead th {\n",
       "        text-align: right;\n",
       "    }\n",
       "</style>\n",
       "<table border=\"1\" class=\"dataframe\">\n",
       "  <thead>\n",
       "    <tr style=\"text-align: right;\">\n",
       "      <th></th>\n",
       "      <th>ZipCode</th>\n",
       "      <th>YEAR</th>\n",
       "      <th>RegionID</th>\n",
       "      <th>City</th>\n",
       "      <th>Metro</th>\n",
       "      <th>CountyName</th>\n",
       "      <th>HOME_PRICE</th>\n",
       "      <th>PRICE_CHANGE</th>\n",
       "      <th>PCT_PRICE_CHANGE (%)</th>\n",
       "      <th>NUM_FIRES</th>\n",
       "      <th>TOTAL_ACRES_BURNED_IN_ZIP</th>\n",
       "      <th>AVG_FIRE_DURATION_DAYS</th>\n",
       "      <th>MAX_PCT_ZIP_BURNED</th>\n",
       "      <th>ANY_MAJOR_FIRE</th>\n",
       "      <th>FIRE_EXPOSED</th>\n",
       "    </tr>\n",
       "  </thead>\n",
       "  <tbody>\n",
       "    <tr>\n",
       "      <th>0</th>\n",
       "      <td>90001</td>\n",
       "      <td>2012</td>\n",
       "      <td>95982</td>\n",
       "      <td>Florence-Graham</td>\n",
       "      <td>Los Angeles-Long Beach-Anaheim, CA</td>\n",
       "      <td>Los Angeles County</td>\n",
       "      <td>173120.150950</td>\n",
       "      <td>40741.986132</td>\n",
       "      <td>23.533936</td>\n",
       "      <td>NaN</td>\n",
       "      <td>NaN</td>\n",
       "      <td>NaN</td>\n",
       "      <td>NaN</td>\n",
       "      <td>NaN</td>\n",
       "      <td>0</td>\n",
       "    </tr>\n",
       "    <tr>\n",
       "      <th>1</th>\n",
       "      <td>90001</td>\n",
       "      <td>2013</td>\n",
       "      <td>95982</td>\n",
       "      <td>Florence-Graham</td>\n",
       "      <td>Los Angeles-Long Beach-Anaheim, CA</td>\n",
       "      <td>Los Angeles County</td>\n",
       "      <td>213862.137082</td>\n",
       "      <td>36859.316468</td>\n",
       "      <td>17.235083</td>\n",
       "      <td>NaN</td>\n",
       "      <td>NaN</td>\n",
       "      <td>NaN</td>\n",
       "      <td>NaN</td>\n",
       "      <td>NaN</td>\n",
       "      <td>0</td>\n",
       "    </tr>\n",
       "    <tr>\n",
       "      <th>2</th>\n",
       "      <td>90001</td>\n",
       "      <td>2014</td>\n",
       "      <td>95982</td>\n",
       "      <td>Florence-Graham</td>\n",
       "      <td>Los Angeles-Long Beach-Anaheim, CA</td>\n",
       "      <td>Los Angeles County</td>\n",
       "      <td>250721.453550</td>\n",
       "      <td>4484.383699</td>\n",
       "      <td>1.788592</td>\n",
       "      <td>NaN</td>\n",
       "      <td>NaN</td>\n",
       "      <td>NaN</td>\n",
       "      <td>NaN</td>\n",
       "      <td>NaN</td>\n",
       "      <td>0</td>\n",
       "    </tr>\n",
       "    <tr>\n",
       "      <th>3</th>\n",
       "      <td>90001</td>\n",
       "      <td>2015</td>\n",
       "      <td>95982</td>\n",
       "      <td>Florence-Graham</td>\n",
       "      <td>Los Angeles-Long Beach-Anaheim, CA</td>\n",
       "      <td>Los Angeles County</td>\n",
       "      <td>255205.837249</td>\n",
       "      <td>25174.378994</td>\n",
       "      <td>9.864343</td>\n",
       "      <td>NaN</td>\n",
       "      <td>NaN</td>\n",
       "      <td>NaN</td>\n",
       "      <td>NaN</td>\n",
       "      <td>NaN</td>\n",
       "      <td>0</td>\n",
       "    </tr>\n",
       "    <tr>\n",
       "      <th>4</th>\n",
       "      <td>90001</td>\n",
       "      <td>2016</td>\n",
       "      <td>95982</td>\n",
       "      <td>Florence-Graham</td>\n",
       "      <td>Los Angeles-Long Beach-Anaheim, CA</td>\n",
       "      <td>Los Angeles County</td>\n",
       "      <td>280380.216244</td>\n",
       "      <td>51139.857090</td>\n",
       "      <td>18.239467</td>\n",
       "      <td>NaN</td>\n",
       "      <td>NaN</td>\n",
       "      <td>NaN</td>\n",
       "      <td>NaN</td>\n",
       "      <td>NaN</td>\n",
       "      <td>0</td>\n",
       "    </tr>\n",
       "  </tbody>\n",
       "</table>\n",
       "</div>"
      ],
      "text/plain": [
       "  ZipCode  YEAR  RegionID             City  \\\n",
       "0   90001  2012     95982  Florence-Graham   \n",
       "1   90001  2013     95982  Florence-Graham   \n",
       "2   90001  2014     95982  Florence-Graham   \n",
       "3   90001  2015     95982  Florence-Graham   \n",
       "4   90001  2016     95982  Florence-Graham   \n",
       "\n",
       "                                Metro          CountyName     HOME_PRICE  \\\n",
       "0  Los Angeles-Long Beach-Anaheim, CA  Los Angeles County  173120.150950   \n",
       "1  Los Angeles-Long Beach-Anaheim, CA  Los Angeles County  213862.137082   \n",
       "2  Los Angeles-Long Beach-Anaheim, CA  Los Angeles County  250721.453550   \n",
       "3  Los Angeles-Long Beach-Anaheim, CA  Los Angeles County  255205.837249   \n",
       "4  Los Angeles-Long Beach-Anaheim, CA  Los Angeles County  280380.216244   \n",
       "\n",
       "   PRICE_CHANGE  PCT_PRICE_CHANGE (%)  NUM_FIRES  TOTAL_ACRES_BURNED_IN_ZIP  \\\n",
       "0  40741.986132             23.533936        NaN                        NaN   \n",
       "1  36859.316468             17.235083        NaN                        NaN   \n",
       "2   4484.383699              1.788592        NaN                        NaN   \n",
       "3  25174.378994              9.864343        NaN                        NaN   \n",
       "4  51139.857090             18.239467        NaN                        NaN   \n",
       "\n",
       "   AVG_FIRE_DURATION_DAYS  MAX_PCT_ZIP_BURNED  ANY_MAJOR_FIRE  FIRE_EXPOSED  \n",
       "0                     NaN                 NaN             NaN             0  \n",
       "1                     NaN                 NaN             NaN             0  \n",
       "2                     NaN                 NaN             NaN             0  \n",
       "3                     NaN                 NaN             NaN             0  \n",
       "4                     NaN                 NaN             NaN             0  "
      ]
     },
     "execution_count": 15,
     "metadata": {},
     "output_type": "execute_result"
    }
   ],
   "source": [
    "# Create a flag column for fire exposure\n",
    "# 0 means no\n",
    "# 1 means yes\n",
    "merged_data[\"FIRE_EXPOSED\"] = (merged_data[\"_merge\"] == \"both\").astype(int)\n",
    "\n",
    "# Drop merge indicator and other useless columns\n",
    "col_drop = [\"_merge\", \"ZIP_CODE\", \"YEAR_\", \"NEXT_YEAR_PRICE\"]\n",
    "merged_data.drop(columns=col_drop, inplace=True)\n",
    "\n",
    "merged_data.head()\n"
   ]
  },
  {
   "cell_type": "code",
   "execution_count": 16,
   "metadata": {},
   "outputs": [],
   "source": [
    "# FINAL XGBOOST DATA\n",
    "Xgboost_data = merged_data.copy()\n"
   ]
  }
 ],
 "metadata": {
  "kernelspec": {
   "display_name": "base",
   "language": "python",
   "name": "python3"
  },
  "language_info": {
   "codemirror_mode": {
    "name": "ipython",
    "version": 3
   },
   "file_extension": ".py",
   "mimetype": "text/x-python",
   "name": "python",
   "nbconvert_exporter": "python",
   "pygments_lexer": "ipython3",
   "version": "3.12.5"
  }
 },
 "nbformat": 4,
 "nbformat_minor": 2
}
