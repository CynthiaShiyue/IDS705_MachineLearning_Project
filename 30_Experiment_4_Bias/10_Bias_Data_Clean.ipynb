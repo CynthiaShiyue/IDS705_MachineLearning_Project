{
 "cells": [
  {
   "cell_type": "code",
   "execution_count": 13,
   "metadata": {},
   "outputs": [],
   "source": [
    "import pandas as pd\n",
    "pd.set_option(\"mode.copy_on_write\", True)\n",
    "import requests\n"
   ]
  },
  {
   "cell_type": "code",
   "execution_count": 14,
   "metadata": {},
   "outputs": [
    {
     "data": {
      "text/html": [
       "<div>\n",
       "<style scoped>\n",
       "    .dataframe tbody tr th:only-of-type {\n",
       "        vertical-align: middle;\n",
       "    }\n",
       "\n",
       "    .dataframe tbody tr th {\n",
       "        vertical-align: top;\n",
       "    }\n",
       "\n",
       "    .dataframe thead th {\n",
       "        text-align: right;\n",
       "    }\n",
       "</style>\n",
       "<table border=\"1\" class=\"dataframe\">\n",
       "  <thead>\n",
       "    <tr style=\"text-align: right;\">\n",
       "      <th></th>\n",
       "      <th>NAME</th>\n",
       "      <th>Median_Household_Income</th>\n",
       "      <th>state</th>\n",
       "      <th>ZIP_CODE</th>\n",
       "    </tr>\n",
       "  </thead>\n",
       "  <tbody>\n",
       "    <tr>\n",
       "      <th>0</th>\n",
       "      <td>ZCTA5 93252</td>\n",
       "      <td>36726</td>\n",
       "      <td>06</td>\n",
       "      <td>93252</td>\n",
       "    </tr>\n",
       "    <tr>\n",
       "      <th>1</th>\n",
       "      <td>ZCTA5 93270</td>\n",
       "      <td>34023</td>\n",
       "      <td>06</td>\n",
       "      <td>93270</td>\n",
       "    </tr>\n",
       "    <tr>\n",
       "      <th>2</th>\n",
       "      <td>ZCTA5 93291</td>\n",
       "      <td>61599</td>\n",
       "      <td>06</td>\n",
       "      <td>93291</td>\n",
       "    </tr>\n",
       "    <tr>\n",
       "      <th>3</th>\n",
       "      <td>ZCTA5 93304</td>\n",
       "      <td>40710</td>\n",
       "      <td>06</td>\n",
       "      <td>93304</td>\n",
       "    </tr>\n",
       "    <tr>\n",
       "      <th>4</th>\n",
       "      <td>ZCTA5 93306</td>\n",
       "      <td>55133</td>\n",
       "      <td>06</td>\n",
       "      <td>93306</td>\n",
       "    </tr>\n",
       "  </tbody>\n",
       "</table>\n",
       "</div>"
      ],
      "text/plain": [
       "          NAME  Median_Household_Income state ZIP_CODE\n",
       "0  ZCTA5 93252                    36726    06    93252\n",
       "1  ZCTA5 93270                    34023    06    93270\n",
       "2  ZCTA5 93291                    61599    06    93291\n",
       "3  ZCTA5 93304                    40710    06    93304\n",
       "4  ZCTA5 93306                    55133    06    93306"
      ]
     },
     "execution_count": 14,
     "metadata": {},
     "output_type": "execute_result"
    }
   ],
   "source": [
    "api_link = \"https://api.census.gov/data/2019/acs/acs5\" # see census bureau website\n",
    "\n",
    "col_needed = {\n",
    "    \"get\": \"NAME,B19013_001E\",  # B19013_001E = Median Household Income,  Ask for ZIP code name and median income\n",
    "    \"for\": \"zip code tabulation area:*\", # Get all ZIP code tabulation areas\n",
    "    \"in\": \"state:06\"                 # ...but only in California (state code 06)\n",
    "}\n",
    "\n",
    "# Go fecth the data in the database\n",
    "response = requests.get(api_link, params=col_needed)\n",
    "\n",
    "# Take the response from the Census API and converts it into a Python object\n",
    "data = response.json()\n",
    "\n",
    "# Convert to DataFrame\n",
    "columns = data[0]\n",
    "rows = data[1:]\n",
    "income_data = pd.DataFrame(rows, columns=columns)\n",
    "\n",
    "# Clean column names\n",
    "income_data.rename(columns={\n",
    "    \"B19013_001E\": \"Median_Household_Income\",\n",
    "    \"zip code tabulation area\": \"ZIP_CODE\"\n",
    "}, inplace=True)\n",
    "\n",
    "# Convert income to numeric\n",
    "income_data[\"Median_Household_Income\"] = pd.to_numeric(income_data[\"Median_Household_Income\"])\n",
    "\n",
    "income_data.head(5)\n"
   ]
  },
  {
   "cell_type": "code",
   "execution_count": 15,
   "metadata": {},
   "outputs": [
    {
     "data": {
      "text/plain": [
       "(1764, 4)"
      ]
     },
     "execution_count": 15,
     "metadata": {},
     "output_type": "execute_result"
    }
   ],
   "source": [
    "income_data.shape"
   ]
  },
  {
   "cell_type": "code",
   "execution_count": 16,
   "metadata": {},
   "outputs": [],
   "source": [
    "# Define thresholds\n",
    "low_thresh = income_data[\"Median_Household_Income\"].quantile(0.25)\n",
    "high_thresh = income_data[\"Median_Household_Income\"].quantile(0.75)\n",
    "\n",
    "# Label ZIPs as Low or High income\n",
    "income_data[\"Income_Group\"] = income_data[\"Median_Household_Income\"].apply(\n",
    "    lambda x: \"Low Income\" if x <= low_thresh else (\n",
    "        \"High Income\" if x >= high_thresh else \"Mid\"\n",
    "    )\n",
    ")\n",
    "\n",
    "# Filter out the \"Mid\" group if we're doing only Low vs High\n",
    "low_vs_high_income = income_data[income_data[\"Income_Group\"] != \"Mid\"]"
   ]
  },
  {
   "cell_type": "code",
   "execution_count": 17,
   "metadata": {},
   "outputs": [
    {
     "data": {
      "text/html": [
       "<div>\n",
       "<style scoped>\n",
       "    .dataframe tbody tr th:only-of-type {\n",
       "        vertical-align: middle;\n",
       "    }\n",
       "\n",
       "    .dataframe tbody tr th {\n",
       "        vertical-align: top;\n",
       "    }\n",
       "\n",
       "    .dataframe thead th {\n",
       "        text-align: right;\n",
       "    }\n",
       "</style>\n",
       "<table border=\"1\" class=\"dataframe\">\n",
       "  <thead>\n",
       "    <tr style=\"text-align: right;\">\n",
       "      <th></th>\n",
       "      <th>NAME</th>\n",
       "      <th>Median_Household_Income</th>\n",
       "      <th>state</th>\n",
       "      <th>ZIP_CODE</th>\n",
       "      <th>Income_Group</th>\n",
       "    </tr>\n",
       "  </thead>\n",
       "  <tbody>\n",
       "    <tr>\n",
       "      <th>0</th>\n",
       "      <td>ZCTA5 93252</td>\n",
       "      <td>36726</td>\n",
       "      <td>06</td>\n",
       "      <td>93252</td>\n",
       "      <td>Low Income</td>\n",
       "    </tr>\n",
       "    <tr>\n",
       "      <th>1</th>\n",
       "      <td>ZCTA5 93270</td>\n",
       "      <td>34023</td>\n",
       "      <td>06</td>\n",
       "      <td>93270</td>\n",
       "      <td>Low Income</td>\n",
       "    </tr>\n",
       "    <tr>\n",
       "      <th>3</th>\n",
       "      <td>ZCTA5 93304</td>\n",
       "      <td>40710</td>\n",
       "      <td>06</td>\n",
       "      <td>93304</td>\n",
       "      <td>Low Income</td>\n",
       "    </tr>\n",
       "    <tr>\n",
       "      <th>5</th>\n",
       "      <td>ZCTA5 93307</td>\n",
       "      <td>38415</td>\n",
       "      <td>06</td>\n",
       "      <td>93307</td>\n",
       "      <td>Low Income</td>\n",
       "    </tr>\n",
       "    <tr>\n",
       "      <th>12</th>\n",
       "      <td>ZCTA5 94929</td>\n",
       "      <td>119706</td>\n",
       "      <td>06</td>\n",
       "      <td>94929</td>\n",
       "      <td>High Income</td>\n",
       "    </tr>\n",
       "  </tbody>\n",
       "</table>\n",
       "</div>"
      ],
      "text/plain": [
       "           NAME  Median_Household_Income state ZIP_CODE Income_Group\n",
       "0   ZCTA5 93252                    36726    06    93252   Low Income\n",
       "1   ZCTA5 93270                    34023    06    93270   Low Income\n",
       "3   ZCTA5 93304                    40710    06    93304   Low Income\n",
       "5   ZCTA5 93307                    38415    06    93307   Low Income\n",
       "12  ZCTA5 94929                   119706    06    94929  High Income"
      ]
     },
     "execution_count": 17,
     "metadata": {},
     "output_type": "execute_result"
    }
   ],
   "source": [
    "# Remove sentinel values -666666666\n",
    "low_vs_high_income = low_vs_high_income.loc[low_vs_high_income[\"Median_Household_Income\"] != -666666666]\n",
    "low_vs_high_income.head()"
   ]
  },
  {
   "cell_type": "code",
   "execution_count": 18,
   "metadata": {},
   "outputs": [
    {
     "ename": "NameError",
     "evalue": "name 'final_data' is not defined",
     "output_type": "error",
     "traceback": [
      "\u001b[0;31m---------------------------------------------------------------------------\u001b[0m",
      "\u001b[0;31mNameError\u001b[0m                                 Traceback (most recent call last)",
      "Cell \u001b[0;32mIn[18], line 5\u001b[0m\n\u001b[1;32m      3\u001b[0m \u001b[38;5;66;03m# Assuming you have y_true and y_pred already\u001b[39;00m\n\u001b[1;32m      4\u001b[0m \u001b[38;5;28;01mfor\u001b[39;00m group \u001b[38;5;129;01min\u001b[39;00m [\u001b[38;5;124m\"\u001b[39m\u001b[38;5;124mLow Income\u001b[39m\u001b[38;5;124m\"\u001b[39m, \u001b[38;5;124m\"\u001b[39m\u001b[38;5;124mHigh Income\u001b[39m\u001b[38;5;124m\"\u001b[39m]:\n\u001b[0;32m----> 5\u001b[0m     group_data \u001b[38;5;241m=\u001b[39m \u001b[43mfinal_data\u001b[49m[final_data[\u001b[38;5;124m\"\u001b[39m\u001b[38;5;124mIncome_Group\u001b[39m\u001b[38;5;124m\"\u001b[39m] \u001b[38;5;241m==\u001b[39m group]\n\u001b[1;32m      6\u001b[0m     y_true \u001b[38;5;241m=\u001b[39m group_data[\u001b[38;5;124m\"\u001b[39m\u001b[38;5;124mPercent_Change\u001b[39m\u001b[38;5;124m\"\u001b[39m]\n\u001b[1;32m      7\u001b[0m     y_pred \u001b[38;5;241m=\u001b[39m group_data[\u001b[38;5;124m\"\u001b[39m\u001b[38;5;124mModel_Prediction\u001b[39m\u001b[38;5;124m\"\u001b[39m]\n",
      "\u001b[0;31mNameError\u001b[0m: name 'final_data' is not defined"
     ]
    }
   ],
   "source": [
    "from sklearn.metrics import mean_absolute_error\n",
    "\n",
    "# Assuming you have y_true and y_pred already\n",
    "for group in [\"Low Income\", \"High Income\"]:\n",
    "    group_data = final_data[final_data[\"Income_Group\"] == group]\n",
    "    y_true = group_data[\"Percent_Change\"]\n",
    "    y_pred = group_data[\"Model_Prediction\"]\n",
    "    \n",
    "    mae = mean_absolute_error(y_true, y_pred)\n",
    "    residual_bias = (y_pred - y_true).mean()\n",
    "\n",
    "    print(f\"{group} - MAE: {mae:.2f}, Residual Bias: {residual_bias:.2f}\")\n"
   ]
  }
 ],
 "metadata": {
  "kernelspec": {
   "display_name": "base",
   "language": "python",
   "name": "python3"
  },
  "language_info": {
   "codemirror_mode": {
    "name": "ipython",
    "version": 3
   },
   "file_extension": ".py",
   "mimetype": "text/x-python",
   "name": "python",
   "nbconvert_exporter": "python",
   "pygments_lexer": "ipython3",
   "version": "3.12.5"
  }
 },
 "nbformat": 4,
 "nbformat_minor": 2
}
