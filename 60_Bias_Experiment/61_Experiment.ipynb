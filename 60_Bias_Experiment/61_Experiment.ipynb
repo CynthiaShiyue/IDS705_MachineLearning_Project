{
 "cells": [
  {
   "cell_type": "code",
   "execution_count": 1,
   "id": "27f664ea",
   "metadata": {},
   "outputs": [],
   "source": [
    "import pandas as pd\n",
    "import numpy as np\n",
    "from xgboost import XGBRegressor\n",
    "from sklearn.metrics import mean_squared_error, mean_absolute_error, r2_score\n",
    "import matplotlib.pyplot as plt\n",
    "import seaborn as sns\n",
    "import shap\n",
    "import warnings\n",
    "\n",
    "warnings.filterwarnings('ignore', category=UserWarning) # Suppress some SHAP/XGBoost warnings\n",
    "warnings.filterwarnings('ignore', category=FutureWarning)\n",
    "pd.options.mode.chained_assignment = None # default='warn', suppress SettingWithCopyWarning for imputation steps\n"
   ]
  },
  {
   "cell_type": "code",
   "execution_count": null,
   "id": "8742394f",
   "metadata": {},
   "outputs": [],
   "source": [
    "######################################################################\n",
    "# PULL BASE XGBOOST MODELS AND DATA NEEDED\n",
    "######################################################################\n",
    "\n",
    "# Call Xgboost model with wildfire features\n",
    "loaded_model_ubj = XGBRegressor()\n",
    "loaded_model_ubj.load_model('../20_Model/xgboost_wf_model.ubj') # or 'xgboost_base_model.ubj'\n",
    "\n",
    "# Pull required datasets\n",
    "test_data = pd.read_csv(\"../50_Spillover_Experiment/test_data_spillover.csv\")\n",
    "X_test_wf_processed = pd.read_csv(\"../50_Spillover_Experiment/X_test_spillover.csv\")\n",
    "\n",
    "# Define our groups and Target Variable\n",
    "neighbor_groups = ['affected', 'very_close_neighbor', 'close_neighbor', 'far_neighbor']\n",
    "TARGET_VARIABLE = 'PCT_PRICE_CHANGE_DETRENDED (%)'"
   ]
  }
 ],
 "metadata": {
  "kernelspec": {
   "display_name": "base",
   "language": "python",
   "name": "python3"
  },
  "language_info": {
   "codemirror_mode": {
    "name": "ipython",
    "version": 3
   },
   "file_extension": ".py",
   "mimetype": "text/x-python",
   "name": "python",
   "nbconvert_exporter": "python",
   "pygments_lexer": "ipython3",
   "version": "3.12.5"
  }
 },
 "nbformat": 4,
 "nbformat_minor": 5
}
